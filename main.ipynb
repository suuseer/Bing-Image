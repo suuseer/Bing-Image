{
 "cells": [
  {
   "cell_type": "code",
   "execution_count": 1,
   "id": "2844b3d5",
   "metadata": {},
   "outputs": [
    {
     "name": "stdout",
     "output_type": "stream",
     "text": [
      "[{'copyright': '阿拉斯加基奈峡湾国家公园尖顶湾, 阿拉斯加州苏厄德, 美国 (© Wander Photography/Getty Images)', 'date': '2025-04-24', 'urlbase': 'https://cn.bing.com/th?id=OHR.KenaiSpires_ZH-CN3045699778', 'url': 'https://cn.bing.com/th?id=OHR.KenaiSpires_ZH-CN3045699778_1920x1080.jpg&rf=LaDigue_1920x1080.jpg&pid=hp'}, {'copyright': '海利根港斯坦沃德海滩上的沙滩椅，石勒苏益格-荷尔斯泰因州，德国 (© Frank Lukasseck/eStock Photo)', 'date': '2025-04-23', 'urlbase': 'https://cn.bing.com/th?id=OHR.BeachChairsSteinwarder_ZH-CN2947390092', 'url': 'https://cn.bing.com/th?id=OHR.BeachChairsSteinwarder_ZH-CN2947390092_1920x1080.jpg&rf=LaDigue_1920x1080.jpg&pid=hp'}, {'copyright': '大棱镜彩泉，黄石国家公园，怀俄明州，美国 (© Ajith Kumar/Getty Images)', 'date': '2025-04-22', 'urlbase': 'https://cn.bing.com/th?id=OHR.YellowstoneSpring_ZH-CN2643482467', 'url': 'https://cn.bing.com/th?id=OHR.YellowstoneSpring_ZH-CN2643482467_1920x1080.jpg&rf=LaDigue_1920x1080.jpg&pid=hp'}, {'copyright': '银河下的约书亚树，加利福尼亚州，美国 (© Chao Zhang/Getty Images)', 'date': '2025-04-21', 'urlbase': 'https://cn.bing.com/th?id=OHR.JoshuaStars_ZH-CN1375098210', 'url': 'https://cn.bing.com/th?id=OHR.JoshuaStars_ZH-CN1375098210_1920x1080.jpg&rf=LaDigue_1920x1080.jpg&pid=hp'}, {'copyright': '春天里的野生小兔子 (© Fiona McAllister Photography/Getty Images)', 'date': '2025-04-20', 'urlbase': 'https://cn.bing.com/th?id=OHR.BunnyLove_ZH-CN1145897965', 'url': 'https://cn.bing.com/th?id=OHR.BunnyLove_ZH-CN1145897965_1920x1080.jpg&rf=LaDigue_1920x1080.jpg&pid=hp'}, {'copyright': '锡安国家公园，犹他州，美国 (© Simon Dannhauer/Getty Images)', 'date': '2025-04-19', 'urlbase': 'https://cn.bing.com/th?id=OHR.ZionValley_ZH-CN0611524754', 'url': 'https://cn.bing.com/th?id=OHR.ZionValley_ZH-CN0611524754_1920x1080.jpg&rf=LaDigue_1920x1080.jpg&pid=hp'}, {'copyright': '卡帕多西亚格雷梅国家公园上空的热气球，土耳其 (© Anton Petrus/Getty Images)', 'date': '2025-04-18', 'urlbase': 'https://cn.bing.com/th?id=OHR.GoremeTurkey_ZH-CN0255739302', 'url': 'https://cn.bing.com/th?id=OHR.GoremeTurkey_ZH-CN0255739302_1920x1080.jpg&rf=LaDigue_1920x1080.jpg&pid=hp'}]\n"
     ]
    }
   ],
   "source": [
    "import requests #用的是requests库，没有的可以装一下\n",
    "import json #json解析用的\n",
    "\n",
    "#获取必应每日一图\n",
    "\n",
    "#主方法\n",
    "def getBingImg():\n",
    "    try:\n",
    "        headers={\n",
    "            'Content-Type':'application/json; charset=utf-8',\n",
    "            'user-agent':'Mozilla/5.0 (Windows NT 10.0; Win64; x64) AppleWebKit/537.36 (KHTML, like Gecko) Chrome/86.0.4240.198 Safari/537.36', #不是必须\n",
    "        }\n",
    "        response = requests.get(\n",
    "            \"https://cn.bing.com/HPImageArchive.aspx?format=js&idx=0&n=7&mkt=zh-CN\",\n",
    "            headers=headers, #请求头\n",
    "            timeout=3, #设置请求超时时间\n",
    "        )\n",
    "        response = json.loads(response.text) #转化为json\n",
    "        imgList = []\n",
    "        for item in response['images']:\n",
    "            imgList.append({\n",
    "                'copyright':item['copyright'], #版权\n",
    "                'date':item['enddate'][0:4]+'-'+item['enddate'][4:6]+'-'+item['enddate'][6:], #时间\n",
    "                'urlbase':'https://cn.bing.com'+item['urlbase'], #原始图片链接\n",
    "                'url':'https://cn.bing.com'+item['url'], #图片链接\n",
    "            })\n",
    "        return imgList #返回一个数据数组\n",
    "    except:\n",
    "        return False\n",
    "\n",
    "if __name__ == '__main__':\n",
    "    print(getBingImg()) #打印一下\n"
   ]
  },
  {
   "cell_type": "code",
   "execution_count": null,
   "id": "ff69cf91",
   "metadata": {},
   "outputs": [],
   "source": []
  }
 ],
 "metadata": {
  "kernelspec": {
   "display_name": "base",
   "language": "python",
   "name": "python3"
  },
  "language_info": {
   "codemirror_mode": {
    "name": "ipython",
    "version": 3
   },
   "file_extension": ".py",
   "mimetype": "text/x-python",
   "name": "python",
   "nbconvert_exporter": "python",
   "pygments_lexer": "ipython3",
   "version": "3.12.3"
  }
 },
 "nbformat": 4,
 "nbformat_minor": 5
}
